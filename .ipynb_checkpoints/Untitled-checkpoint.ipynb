{
 "cells": [
  {
   "cell_type": "code",
   "execution_count": 85,
   "id": "09d524f4-482f-497c-ae43-451acec808d5",
   "metadata": {},
   "outputs": [],
   "source": [
    "import pandas as pd\n",
    "from io import StringIO"
   ]
  },
  {
   "cell_type": "code",
   "execution_count": 171,
   "id": "70700f45-187a-46a9-a980-d791d87cafa7",
   "metadata": {},
   "outputs": [],
   "source": [
    "bulk = '''>Rosalind_1\n",
    "ATCCAGCT\n",
    ">Rosalind_2\n",
    "GGGCAACT\n",
    ">Rosalind_3\n",
    "ATGGATCT\n",
    ">Rosalind_4\n",
    "AAGCAACC\n",
    ">Rosalind_5\n",
    "TTGGAACT\n",
    ">Rosalind_6\n",
    "ATGCCATT\n",
    ">Rosalind_7\n",
    "ATGGCACT\n",
    "'''"
   ]
  },
  {
   "cell_type": "code",
   "execution_count": 172,
   "id": "4d9e4759-e62c-427d-984c-f3237e049dc0",
   "metadata": {},
   "outputs": [],
   "source": [
    "bulks = bulk[1:].split('\\n>')"
   ]
  },
  {
   "cell_type": "code",
   "execution_count": 173,
   "id": "13e81e9d-be11-4738-b72e-4cbcb83d3e77",
   "metadata": {},
   "outputs": [],
   "source": [
    "txt = [list(''.join(b.split('\\n')[1:])) for b in bulks]"
   ]
  },
  {
   "cell_type": "code",
   "execution_count": 174,
   "id": "63b686a2-e4d5-46fd-8edf-d168559e5294",
   "metadata": {},
   "outputs": [],
   "source": [
    "df = pd.DataFrame(txt)"
   ]
  },
  {
   "cell_type": "code",
   "execution_count": 175,
   "id": "a3197438-99d1-423a-9aa0-97894b881ed1",
   "metadata": {},
   "outputs": [],
   "source": [
    "dic = {'A':[], 'C':[], 'G':[], 'T':[]}"
   ]
  },
  {
   "cell_type": "code",
   "execution_count": 181,
   "id": "c83d1479-e635-401d-92bb-98aacd971816",
   "metadata": {},
   "outputs": [
    {
     "data": {
      "text/plain": [
       "Index(['T', 'C'], dtype='object', name=7)"
      ]
     },
     "execution_count": 181,
     "metadata": {},
     "output_type": "execute_result"
    }
   ],
   "source": [
    "counts.index"
   ]
  },
  {
   "cell_type": "code",
   "execution_count": 176,
   "id": "6990168c-d349-45d2-b059-23e34bd06188",
   "metadata": {},
   "outputs": [
    {
     "name": "stdout",
     "output_type": "stream",
     "text": [
      "0\n",
      "A    5\n",
      "G    1\n",
      "T    1\n",
      "Name: count, dtype: int64\n",
      "1\n",
      "T    5\n",
      "G    1\n",
      "A    1\n",
      "Name: count, dtype: int64\n",
      "2\n",
      "G    6\n",
      "C    1\n",
      "Name: count, dtype: int64\n",
      "3\n",
      "C    4\n",
      "G    3\n",
      "Name: count, dtype: int64\n",
      "4\n",
      "A    5\n",
      "C    2\n",
      "Name: count, dtype: int64\n",
      "5\n",
      "A    5\n",
      "G    1\n",
      "T    1\n",
      "Name: count, dtype: int64\n",
      "6\n",
      "C    6\n",
      "T    1\n",
      "Name: count, dtype: int64\n",
      "7\n",
      "T    6\n",
      "C    1\n",
      "Name: count, dtype: int64\n"
     ]
    }
   ],
   "source": [
    "consensus = ''\n",
    "for i in df:\n",
    "    counts = df[i].value_counts()\n",
    "    bases = counts.index\n",
    "    consensus += bases[0]\n",
    "    if len(bases) != 4:\n",
    "        {'A', 'T', 'G', 'C'} - bases\n",
    "    for k, v in counts.to_dict().items():\n",
    "        dic[k].append(str(v))\n",
    "    "
   ]
  },
  {
   "cell_type": "code",
   "execution_count": 177,
   "id": "6684d27b-f72d-4e1a-b6ea-af70b94babbd",
   "metadata": {},
   "outputs": [
    {
     "data": {
      "text/plain": [
       "'ATGCAACT'"
      ]
     },
     "execution_count": 177,
     "metadata": {},
     "output_type": "execute_result"
    }
   ],
   "source": [
    "consensus"
   ]
  },
  {
   "cell_type": "code",
   "execution_count": 178,
   "id": "0cecf310-c056-45f4-84c4-4f40f2fbeccf",
   "metadata": {},
   "outputs": [
    {
     "name": "stdout",
     "output_type": "stream",
     "text": [
      "A: 5 1 5 5\n",
      "C: 1 4 2 6 1\n",
      "G: 1 1 6 3 1\n",
      "T: 1 5 1 1 6\n"
     ]
    }
   ],
   "source": [
    "for i in dic:\n",
    "    print(f\"{i}: {' '.join(dic[i])}\")"
   ]
  },
  {
   "cell_type": "code",
   "execution_count": null,
   "id": "3d404260-409d-4a85-8182-26276ca8afcb",
   "metadata": {},
   "outputs": [],
   "source": []
  }
 ],
 "metadata": {
  "kernelspec": {
   "display_name": "Python 3 (ipykernel)",
   "language": "python",
   "name": "python3"
  },
  "language_info": {
   "codemirror_mode": {
    "name": "ipython",
    "version": 3
   },
   "file_extension": ".py",
   "mimetype": "text/x-python",
   "name": "python",
   "nbconvert_exporter": "python",
   "pygments_lexer": "ipython3",
   "version": "3.10.10"
  }
 },
 "nbformat": 4,
 "nbformat_minor": 5
}
